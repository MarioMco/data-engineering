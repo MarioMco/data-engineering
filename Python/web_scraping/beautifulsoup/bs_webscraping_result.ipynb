{
 "cells": [
  {
   "cell_type": "code",
   "execution_count": 4,
   "metadata": {},
   "outputs": [],
   "source": [
    "import pandas as pd"
   ]
  },
  {
   "cell_type": "code",
   "execution_count": 24,
   "metadata": {},
   "outputs": [
    {
     "data": {
      "text/html": [
       "<div>\n",
       "<style scoped>\n",
       "    .dataframe tbody tr th:only-of-type {\n",
       "        vertical-align: middle;\n",
       "    }\n",
       "\n",
       "    .dataframe tbody tr th {\n",
       "        vertical-align: top;\n",
       "    }\n",
       "\n",
       "    .dataframe thead th {\n",
       "        text-align: right;\n",
       "    }\n",
       "</style>\n",
       "<table border=\"1\" class=\"dataframe\">\n",
       "  <thead>\n",
       "    <tr style=\"text-align: right;\">\n",
       "      <th></th>\n",
       "      <th>name</th>\n",
       "      <th>description</th>\n",
       "      <th>price</th>\n",
       "    </tr>\n",
       "  </thead>\n",
       "  <tbody>\n",
       "    <tr>\n",
       "      <th>0</th>\n",
       "      <td>LDLC PC Zen-M5 Ti Plus Perfect</td>\n",
       "      <td>PC gamer AMD Ryzen 7 7800X3D 32 Go SSD 1 To NV...</td>\n",
       "      <td>2199.95</td>\n",
       "    </tr>\n",
       "    <tr>\n",
       "      <th>1</th>\n",
       "      <td>Acer Nitro 5 AN515-58-95K1</td>\n",
       "      <td>Intel Core i9-12900H 32 Go SSD 1 To 15.6\" LED ...</td>\n",
       "      <td>1399.95</td>\n",
       "    </tr>\n",
       "    <tr>\n",
       "      <th>2</th>\n",
       "      <td>Gainward GeForce RTX 4070 Ghost</td>\n",
       "      <td>12 Go GDDR6X - HDMI/Tri DisplayPort - DLSS 3 -...</td>\n",
       "      <td>649.96</td>\n",
       "    </tr>\n",
       "    <tr>\n",
       "      <th>3</th>\n",
       "      <td>MSI GeForce RTX 3050 VENTUS 2X XS 8G OC</td>\n",
       "      <td>8 Go GDDR6 - DVI/HDMI/DisplayPort - PCI Expres...</td>\n",
       "      <td>264.95</td>\n",
       "    </tr>\n",
       "    <tr>\n",
       "      <th>4</th>\n",
       "      <td>ASUS Dual GeForce RTX 4070 SUPER 12G</td>\n",
       "      <td>12 Go GDDR6X - HDMI/Tri DisplayPort - DLSS 3 -...</td>\n",
       "      <td>729.95</td>\n",
       "    </tr>\n",
       "  </tbody>\n",
       "</table>\n",
       "</div>"
      ],
      "text/plain": [
       "                                      name  \\\n",
       "0          LDLC PC Zen-M5 Ti Plus Perfect    \n",
       "1               Acer Nitro 5 AN515-58-95K1   \n",
       "2          Gainward GeForce RTX 4070 Ghost   \n",
       "3  MSI GeForce RTX 3050 VENTUS 2X XS 8G OC   \n",
       "4     ASUS Dual GeForce RTX 4070 SUPER 12G   \n",
       "\n",
       "                                         description    price  \n",
       "0  PC gamer AMD Ryzen 7 7800X3D 32 Go SSD 1 To NV...  2199.95  \n",
       "1  Intel Core i9-12900H 32 Go SSD 1 To 15.6\" LED ...  1399.95  \n",
       "2  12 Go GDDR6X - HDMI/Tri DisplayPort - DLSS 3 -...   649.96  \n",
       "3  8 Go GDDR6 - DVI/HDMI/DisplayPort - PCI Expres...   264.95  \n",
       "4  12 Go GDDR6X - HDMI/Tri DisplayPort - DLSS 3 -...   729.95  "
      ]
     },
     "execution_count": 24,
     "metadata": {},
     "output_type": "execute_result"
    }
   ],
   "source": [
    "data = pd.read_csv(\"bs_scraping_data.csv\")\n",
    "data.head()"
   ]
  },
  {
   "cell_type": "code",
   "execution_count": 25,
   "metadata": {},
   "outputs": [
    {
     "name": "stdout",
     "output_type": "stream",
     "text": [
      "<class 'pandas.core.frame.DataFrame'>\n",
      "RangeIndex: 683 entries, 0 to 682\n",
      "Data columns (total 3 columns):\n",
      " #   Column       Non-Null Count  Dtype  \n",
      "---  ------       --------------  -----  \n",
      " 0   name         683 non-null    object \n",
      " 1   description  683 non-null    object \n",
      " 2   price        683 non-null    float64\n",
      "dtypes: float64(1), object(2)\n",
      "memory usage: 16.1+ KB\n"
     ]
    }
   ],
   "source": [
    "data.info()"
   ]
  }
 ],
 "metadata": {
  "kernelspec": {
   "display_name": "Python 3",
   "language": "python",
   "name": "python3"
  },
  "language_info": {
   "codemirror_mode": {
    "name": "ipython",
    "version": 3
   },
   "file_extension": ".py",
   "mimetype": "text/x-python",
   "name": "python",
   "nbconvert_exporter": "python",
   "pygments_lexer": "ipython3",
   "version": "3.12.2"
  }
 },
 "nbformat": 4,
 "nbformat_minor": 2
}
